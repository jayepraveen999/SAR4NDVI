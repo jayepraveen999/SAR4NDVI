{
 "cells": [
  {
   "cell_type": "markdown",
   "metadata": {},
   "source": [
    "## Plotting the NDVI graph of one random pixel value for all the cloud cover image over 2019-2020"
   ]
  },
  {
   "cell_type": "markdown",
   "metadata": {},
   "source": [
    "### Importing necessary packages"
   ]
  },
  {
   "cell_type": "code",
   "execution_count": 37,
   "metadata": {},
   "outputs": [],
   "source": [
    "import numpy as np\n",
    "import pandas as pd\n",
    "import altair as alt\n"
   ]
  },
  {
   "cell_type": "markdown",
   "metadata": {},
   "source": [
    "### Reading data and renaming"
   ]
  },
  {
   "cell_type": "code",
   "execution_count": 52,
   "metadata": {},
   "outputs": [],
   "source": [
    "data = pd.read_csv('ndvi_seq.csv')\n",
    "data.rename(columns = {'ndvi':'NDVI Sentinel 2', 'ndvi_pred':'NDVI DL Model',\n",
    "                              'Unnamed: 0':'Index','time':'Date 2019-2020'}, inplace = True)\n",
    "\n",
    "# data"
   ]
  },
  {
   "cell_type": "markdown",
   "metadata": {},
   "source": [
    "### Plotting the graphs using altair: Better Visualization"
   ]
  },
  {
   "cell_type": "code",
   "execution_count": 53,
   "metadata": {},
   "outputs": [
    {
     "data": {
      "text/html": [
       "\n",
       "<div id=\"altair-viz-f43607b81aae48dd897e6ea8087461c5\"></div>\n",
       "<script type=\"text/javascript\">\n",
       "  (function(spec, embedOpt){\n",
       "    let outputDiv = document.currentScript.previousElementSibling;\n",
       "    if (outputDiv.id !== \"altair-viz-f43607b81aae48dd897e6ea8087461c5\") {\n",
       "      outputDiv = document.getElementById(\"altair-viz-f43607b81aae48dd897e6ea8087461c5\");\n",
       "    }\n",
       "    const paths = {\n",
       "      \"vega\": \"https://cdn.jsdelivr.net/npm//vega@5?noext\",\n",
       "      \"vega-lib\": \"https://cdn.jsdelivr.net/npm//vega-lib?noext\",\n",
       "      \"vega-lite\": \"https://cdn.jsdelivr.net/npm//vega-lite@4.8.1?noext\",\n",
       "      \"vega-embed\": \"https://cdn.jsdelivr.net/npm//vega-embed@6?noext\",\n",
       "    };\n",
       "\n",
       "    function loadScript(lib) {\n",
       "      return new Promise(function(resolve, reject) {\n",
       "        var s = document.createElement('script');\n",
       "        s.src = paths[lib];\n",
       "        s.async = true;\n",
       "        s.onload = () => resolve(paths[lib]);\n",
       "        s.onerror = () => reject(`Error loading script: ${paths[lib]}`);\n",
       "        document.getElementsByTagName(\"head\")[0].appendChild(s);\n",
       "      });\n",
       "    }\n",
       "\n",
       "    function showError(err) {\n",
       "      outputDiv.innerHTML = `<div class=\"error\" style=\"color:red;\">${err}</div>`;\n",
       "      throw err;\n",
       "    }\n",
       "\n",
       "    function displayChart(vegaEmbed) {\n",
       "      vegaEmbed(outputDiv, spec, embedOpt)\n",
       "        .catch(err => showError(`Javascript Error: ${err.message}<br>This usually means there's a typo in your chart specification. See the javascript console for the full traceback.`));\n",
       "    }\n",
       "\n",
       "    if(typeof define === \"function\" && define.amd) {\n",
       "      requirejs.config({paths});\n",
       "      require([\"vega-embed\"], displayChart, err => showError(`Error loading script: ${err.message}`));\n",
       "    } else if (typeof vegaEmbed === \"function\") {\n",
       "      displayChart(vegaEmbed);\n",
       "    } else {\n",
       "      loadScript(\"vega\")\n",
       "        .then(() => loadScript(\"vega-lite\"))\n",
       "        .then(() => loadScript(\"vega-embed\"))\n",
       "        .catch(showError)\n",
       "        .then(() => displayChart(vegaEmbed));\n",
       "    }\n",
       "  })({\"config\": {\"view\": {\"continuousWidth\": 400, \"continuousHeight\": 300}}, \"vconcat\": [{\"mark\": \"bar\", \"encoding\": {\"color\": {\"condition\": {\"value\": \"red\", \"selection\": \"selector025\"}, \"value\": \"lightgray\"}, \"tooltip\": [{\"type\": \"quantitative\", \"field\": \"Index\"}, {\"type\": \"quantitative\", \"field\": \"NDVI Sentinel 2\"}], \"x\": {\"type\": \"quantitative\", \"field\": \"Index\"}, \"y\": {\"type\": \"quantitative\", \"field\": \"NDVI Sentinel 2\", \"scale\": {\"domain\": [-0.5, 0.9]}, \"title\": \"NDVI Value: Sentinel 2 [-1 to +1]\"}}, \"selection\": {\"selector026\": {\"type\": \"interval\", \"bind\": \"scales\", \"encodings\": [\"x\", \"y\"]}, \"selector025\": {\"type\": \"interval\", \"encodings\": [\"x\"]}}, \"title\": \"NDVI Value Time Series\", \"width\": 800}, {\"mark\": \"bar\", \"encoding\": {\"color\": {\"condition\": {\"value\": \"green\", \"selection\": \"selector025\"}, \"value\": \"lightgray\"}, \"tooltip\": [{\"type\": \"quantitative\", \"field\": \"Index\"}, {\"type\": \"quantitative\", \"field\": \"NDVI DL Model\"}], \"x\": {\"type\": \"quantitative\", \"field\": \"Index\"}, \"y\": {\"type\": \"quantitative\", \"field\": \"NDVI DL Model\", \"scale\": {\"domain\": [-0.5, 0.9]}, \"title\": \"NDVI Value: DL Model [-1 to +1]\"}}, \"selection\": {\"selector026\": {\"type\": \"interval\", \"bind\": \"scales\", \"encodings\": [\"x\", \"y\"]}, \"selector025\": {\"type\": \"interval\", \"encodings\": [\"x\"]}}, \"title\": \"NDVI Value Time Series\", \"width\": 800}], \"data\": {\"name\": \"data-1c108b78b803973cdab6794227a04277\"}, \"$schema\": \"https://vega.github.io/schema/vega-lite/v4.8.1.json\", \"datasets\": {\"data-1c108b78b803973cdab6794227a04277\": [{\"Index\": 0, \"Date 2019-2020\": \"2019-01-17\", \"NDVI Sentinel 2\": 0.012276281959401293, \"NDVI DL Model\": -0.2937293498470424}, {\"Index\": 1, \"Date 2019-2020\": \"2019-01-27\", \"NDVI Sentinel 2\": 0.05336988783487845, \"NDVI DL Model\": -0.23489023518999785}, {\"Index\": 2, \"Date 2019-2020\": \"2019-02-11\", \"NDVI Sentinel 2\": 0.5880951364461944, \"NDVI DL Model\": -0.3368829160390985}, {\"Index\": 3, \"Date 2019-2020\": \"2019-02-21\", \"NDVI Sentinel 2\": -0.0953996516962704, \"NDVI DL Model\": -0.4183556500110073}, {\"Index\": 4, \"Date 2019-2020\": \"2019-03-03\", \"NDVI Sentinel 2\": 0.01663068340312444, \"NDVI DL Model\": -0.3328736374971669}, {\"Index\": 5, \"Date 2019-2020\": \"2019-03-18\", \"NDVI Sentinel 2\": 0.7262650228165434, \"NDVI DL Model\": -0.1314665071947065}, {\"Index\": 6, \"Date 2019-2020\": \"2019-03-28\", \"NDVI Sentinel 2\": 0.4012768163593417, \"NDVI DL Model\": -0.2419534940581221}, {\"Index\": 7, \"Date 2019-2020\": \"2019-04-12\", \"NDVI Sentinel 2\": 0.08702125013183805, \"NDVI DL Model\": -0.2277346656347228}, {\"Index\": 8, \"Date 2019-2020\": \"2019-04-22\", \"NDVI Sentinel 2\": -0.03534001881172586, \"NDVI DL Model\": 0.034317906740381786}, {\"Index\": 9, \"Date 2019-2020\": \"2019-05-02\", \"NDVI Sentinel 2\": -0.1045723249744908, \"NDVI DL Model\": -0.300699924699138}, {\"Index\": 10, \"Date 2019-2020\": \"2019-05-17\", \"NDVI Sentinel 2\": 0.0370884301595069, \"NDVI DL Model\": -0.2930904827488036}, {\"Index\": 11, \"Date 2019-2020\": \"2019-05-27\", \"NDVI Sentinel 2\": -0.00015235051385763943, \"NDVI DL Model\": -0.10254628075892933}, {\"Index\": 12, \"Date 2019-2020\": \"2019-06-11\", \"NDVI Sentinel 2\": 0.007695371057115461, \"NDVI DL Model\": -0.07726000080992351}, {\"Index\": 13, \"Date 2019-2020\": \"2019-06-21\", \"NDVI Sentinel 2\": -0.032360657084192106, \"NDVI DL Model\": -0.13620381497952513}, {\"Index\": 14, \"Date 2019-2020\": \"2019-07-01\", \"NDVI Sentinel 2\": -0.19977587247405615, \"NDVI DL Model\": -0.13416482602238305}, {\"Index\": 15, \"Date 2019-2020\": \"2019-07-16\", \"NDVI Sentinel 2\": -0.1543742675654487, \"NDVI DL Model\": -0.06043576754138767}, {\"Index\": 16, \"Date 2019-2020\": \"2019-07-26\", \"NDVI Sentinel 2\": -0.17520767691227282, \"NDVI DL Model\": -0.14860879759341866}, {\"Index\": 17, \"Date 2019-2020\": \"2019-08-10\", \"NDVI Sentinel 2\": -0.26249382070438737, \"NDVI DL Model\": -0.16341237442798218}, {\"Index\": 18, \"Date 2019-2020\": \"2019-08-20\", \"NDVI Sentinel 2\": -0.2368695430213736, \"NDVI DL Model\": -0.10541086737823134}, {\"Index\": 19, \"Date 2019-2020\": \"2019-08-30\", \"NDVI Sentinel 2\": -0.20940861253708415, \"NDVI DL Model\": -0.14057631355308894}, {\"Index\": 20, \"Date 2019-2020\": \"2019-09-14\", \"NDVI Sentinel 2\": -0.14595343620498374, \"NDVI DL Model\": -0.15442225178544072}, {\"Index\": 21, \"Date 2019-2020\": \"2019-09-24\", \"NDVI Sentinel 2\": -0.14763989918177073, \"NDVI DL Model\": -0.17535634793285193}, {\"Index\": 22, \"Date 2019-2020\": \"2019-10-09\", \"NDVI Sentinel 2\": -0.10601660196829653, \"NDVI DL Model\": -0.12063365923599664}, {\"Index\": 23, \"Date 2019-2020\": \"2019-10-19\", \"NDVI Sentinel 2\": 0.016929606142750256, \"NDVI DL Model\": 0.002428632098026365}, {\"Index\": 24, \"Date 2019-2020\": \"2019-10-29\", \"NDVI Sentinel 2\": -0.07003277044684321, \"NDVI DL Model\": -0.06918180629029952}, {\"Index\": 25, \"Date 2019-2020\": \"2019-11-13\", \"NDVI Sentinel 2\": 0.04374677483015973, \"NDVI DL Model\": 0.07115248006245338}, {\"Index\": 26, \"Date 2019-2020\": \"2019-11-23\", \"NDVI Sentinel 2\": 0.06715796207733589, \"NDVI DL Model\": -0.08892626796152478}, {\"Index\": 27, \"Date 2019-2020\": \"2019-12-08\", \"NDVI Sentinel 2\": 0.4679041389944281, \"NDVI DL Model\": -0.23691865662635886}, {\"Index\": 28, \"Date 2019-2020\": \"2019-12-18\", \"NDVI Sentinel 2\": 0.04027864018777017, \"NDVI DL Model\": -0.13285321874193676}, {\"Index\": 29, \"Date 2019-2020\": \"2019-12-28\", \"NDVI Sentinel 2\": 0.6382810911650255, \"NDVI DL Model\": -0.25637952510632783}, {\"Index\": 30, \"Date 2019-2020\": \"2020-01-17\", \"NDVI Sentinel 2\": 0.2642326223672134, \"NDVI DL Model\": -0.3393267335255398}, {\"Index\": 31, \"Date 2019-2020\": \"2020-01-27\", \"NDVI Sentinel 2\": 0.7061559697789426, \"NDVI DL Model\": -0.20960333290215213}, {\"Index\": 32, \"Date 2019-2020\": \"2020-02-11\", \"NDVI Sentinel 2\": 0.6619970272355928, \"NDVI DL Model\": -0.2397042569629664}, {\"Index\": 33, \"Date 2019-2020\": \"2020-02-21\", \"NDVI Sentinel 2\": 0.3031160831181218, \"NDVI DL Model\": -0.2960202705910143}, {\"Index\": 34, \"Date 2019-2020\": \"2020-03-02\", \"NDVI Sentinel 2\": 0.22470465449303836, \"NDVI DL Model\": -0.2846742414232941}, {\"Index\": 35, \"Date 2019-2020\": \"2020-03-17\", \"NDVI Sentinel 2\": 0.2347728411312119, \"NDVI DL Model\": -0.16477565448374532}, {\"Index\": 36, \"Date 2019-2020\": \"2020-03-27\", \"NDVI Sentinel 2\": 0.4580687481543914, \"NDVI DL Model\": -0.17310349495496016}, {\"Index\": 37, \"Date 2019-2020\": \"2020-04-11\", \"NDVI Sentinel 2\": 0.4233718109779796, \"NDVI DL Model\": -0.2619606508012598}, {\"Index\": 38, \"Date 2019-2020\": \"2020-04-21\", \"NDVI Sentinel 2\": 0.22036854337793246, \"NDVI DL Model\": -0.4018857103634043}, {\"Index\": 39, \"Date 2019-2020\": \"2020-05-01\", \"NDVI Sentinel 2\": 0.017795367450520606, \"NDVI DL Model\": -0.33467811883426896}, {\"Index\": 40, \"Date 2019-2020\": \"2020-05-16\", \"NDVI Sentinel 2\": -0.08005276701443924, \"NDVI DL Model\": -0.16575573899123952}, {\"Index\": 41, \"Date 2019-2020\": \"2020-05-26\", \"NDVI Sentinel 2\": 0.02343626053519528, \"NDVI DL Model\": -0.19228764053969272}, {\"Index\": 42, \"Date 2019-2020\": \"2020-06-10\", \"NDVI Sentinel 2\": 0.0051617028455922965, \"NDVI DL Model\": -0.14275711200437838}, {\"Index\": 43, \"Date 2019-2020\": \"2020-06-20\", \"NDVI Sentinel 2\": -5.052925524241023e-05, \"NDVI DL Model\": -0.16278062644780375}, {\"Index\": 44, \"Date 2019-2020\": \"2020-06-30\", \"NDVI Sentinel 2\": -0.04844985450478252, \"NDVI DL Model\": -0.23927169857385666}, {\"Index\": 45, \"Date 2019-2020\": \"2020-07-15\", \"NDVI Sentinel 2\": -0.07098513308897024, \"NDVI DL Model\": -0.18337256946844746}, {\"Index\": 46, \"Date 2019-2020\": \"2020-07-25\", \"NDVI Sentinel 2\": -0.16061564328491051, \"NDVI DL Model\": -0.15881049415025356}, {\"Index\": 47, \"Date 2019-2020\": \"2020-08-09\", \"NDVI Sentinel 2\": -0.21894254612544756, \"NDVI DL Model\": -0.19009401036395376}, {\"Index\": 48, \"Date 2019-2020\": \"2020-08-19\", \"NDVI Sentinel 2\": 0.0646027775917461, \"NDVI DL Model\": -0.22885169101996355}, {\"Index\": 49, \"Date 2019-2020\": \"2020-08-29\", \"NDVI Sentinel 2\": -0.3968639790994109, \"NDVI DL Model\": -0.185540991482153}, {\"Index\": 50, \"Date 2019-2020\": \"2020-09-13\", \"NDVI Sentinel 2\": -0.44409350698684935, \"NDVI DL Model\": -0.15508727519253412}, {\"Index\": 51, \"Date 2019-2020\": \"2020-09-23\", \"NDVI Sentinel 2\": -0.16424141523112254, \"NDVI DL Model\": -0.18209025878516594}, {\"Index\": 52, \"Date 2019-2020\": \"2020-10-08\", \"NDVI Sentinel 2\": 0.1166401574492368, \"NDVI DL Model\": -0.20588094400470908}, {\"Index\": 53, \"Date 2019-2020\": \"2020-10-18\", \"NDVI Sentinel 2\": -0.11379440620339505, \"NDVI DL Model\": -0.25276155695281805}, {\"Index\": 54, \"Date 2019-2020\": \"2020-10-28\", \"NDVI Sentinel 2\": -0.05772785116852721, \"NDVI DL Model\": -0.2056577022033178}, {\"Index\": 55, \"Date 2019-2020\": \"2020-11-12\", \"NDVI Sentinel 2\": 0.016087081367589184, \"NDVI DL Model\": -0.33040449823189355}, {\"Index\": 56, \"Date 2019-2020\": \"2020-11-22\", \"NDVI Sentinel 2\": 0.09606149030897232, \"NDVI DL Model\": -0.30370716484910176}, {\"Index\": 57, \"Date 2019-2020\": \"2020-12-07\", \"NDVI Sentinel 2\": 0.07429496776805418, \"NDVI DL Model\": -0.19746938632994335}, {\"Index\": 58, \"Date 2019-2020\": \"2020-12-17\", \"NDVI Sentinel 2\": 0.02004957012491964, \"NDVI DL Model\": -0.2414036631020571}, {\"Index\": 59, \"Date 2019-2020\": \"2020-12-27\", \"NDVI Sentinel 2\": 0.052885921356799336, \"NDVI DL Model\": -0.23081504387101096}]}}, {\"mode\": \"vega-lite\"});\n",
       "</script>"
      ],
      "text/plain": [
       "alt.VConcatChart(...)"
      ]
     },
     "execution_count": 53,
     "metadata": {},
     "output_type": "execute_result"
    }
   ],
   "source": [
    "brush = alt.selection_interval(encodings= [\"x\"])\n",
    "\n",
    "\n",
    "# plotting the dataframe using altair\n",
    "\n",
    "\n",
    "hist1 = alt.Chart(data).mark_bar().encode(x = \"Index\",\n",
    "    color=alt.condition(brush, alt.value(\"cadetblue\"), alt.value('lightgray'))\n",
    ").interactive().properties( width=800,title = 'NDVI Value Time Series').add_selection(brush)\n",
    "\n",
    "hist1.configure_title(\n",
    "    fontSize=20,\n",
    "    font='Courier',\n",
    "    anchor='start',\n",
    "    color='gray'\n",
    ")\n",
    "\n",
    "\n",
    "# concatenating all plots and making them interactive\n",
    "\n",
    "hist1.encode(alt.Y(\"NDVI Sentinel 2\",scale=alt.Scale(domain=[-0.5, 0.9]),title = 'NDVI Value: Sentinel 2 [-1 to +1]'),color=alt.condition(brush, alt.value(\"red\"), alt.value('lightgray')), tooltip=[\"Index\", \"NDVI Sentinel 2\"]\n",
    ") & hist1.encode(alt.Y(\"NDVI DL Model\",scale=alt.Scale(domain=[-0.5, 0.9]),title = 'NDVI Value: DL Model [-1 to +1]'),color=alt.condition(brush, alt.value(\"green\"), alt.value('lightgray')), tooltip=[\"Index\", \"NDVI DL Model\"]\n",
    ")"
   ]
  },
  {
   "cell_type": "code",
   "execution_count": null,
   "metadata": {},
   "outputs": [],
   "source": []
  }
 ],
 "metadata": {
  "kernelspec": {
   "display_name": "Python 3",
   "language": "python",
   "name": "python3"
  },
  "language_info": {
   "codemirror_mode": {
    "name": "ipython",
    "version": 3
   },
   "file_extension": ".py",
   "mimetype": "text/x-python",
   "name": "python",
   "nbconvert_exporter": "python",
   "pygments_lexer": "ipython3",
   "version": "3.7.6"
  }
 },
 "nbformat": 4,
 "nbformat_minor": 4
}
