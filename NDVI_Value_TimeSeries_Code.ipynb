{
 "cells": [
  {
   "cell_type": "markdown",
   "metadata": {},
   "source": [
    "## Plotting the NDVI graph of one random pixel value for all the cloud cover image over 2019-2020"
   ]
  },
  {
   "cell_type": "markdown",
   "metadata": {},
   "source": [
    "### Importing necessary packages"
   ]
  },
  {
   "cell_type": "code",
   "execution_count": 37,
   "metadata": {},
   "outputs": [],
   "source": [
    "import numpy as np\n",
    "import pandas as pd\n",
    "import altair as alt\n"
   ]
  },
  {
   "cell_type": "markdown",
   "metadata": {},
   "source": [
    "### Reading data and renaming"
   ]
  },
  {
   "cell_type": "code",
   "execution_count": 51,
   "metadata": {},
   "outputs": [],
   "source": [
    "data = pd.read_csv('ndvi_seq_2.csv')\n",
    "data.rename(columns = {'ndvi':'NDVI Sentinel 2', 'ndvi_pred':'NDVI DL Model',\n",
    "                              'Unnamed: 0':'Index','time':'Date 2019-2020'}, inplace = True)\n",
    "\n",
    "# data"
   ]
  },
  {
   "cell_type": "markdown",
   "metadata": {},
   "source": [
    "### Plotting the graphs using altair: Better Visualization"
   ]
  },
  {
   "cell_type": "code",
   "execution_count": 47,
   "metadata": {},
   "outputs": [
    {
     "data": {
      "text/html": [
       "\n",
       "<div id=\"altair-viz-05073d99094d49b18a7aa068a213cc8b\"></div>\n",
       "<script type=\"text/javascript\">\n",
       "  (function(spec, embedOpt){\n",
       "    let outputDiv = document.currentScript.previousElementSibling;\n",
       "    if (outputDiv.id !== \"altair-viz-05073d99094d49b18a7aa068a213cc8b\") {\n",
       "      outputDiv = document.getElementById(\"altair-viz-05073d99094d49b18a7aa068a213cc8b\");\n",
       "    }\n",
       "    const paths = {\n",
       "      \"vega\": \"https://cdn.jsdelivr.net/npm//vega@5?noext\",\n",
       "      \"vega-lib\": \"https://cdn.jsdelivr.net/npm//vega-lib?noext\",\n",
       "      \"vega-lite\": \"https://cdn.jsdelivr.net/npm//vega-lite@4.8.1?noext\",\n",
       "      \"vega-embed\": \"https://cdn.jsdelivr.net/npm//vega-embed@6?noext\",\n",
       "    };\n",
       "\n",
       "    function loadScript(lib) {\n",
       "      return new Promise(function(resolve, reject) {\n",
       "        var s = document.createElement('script');\n",
       "        s.src = paths[lib];\n",
       "        s.async = true;\n",
       "        s.onload = () => resolve(paths[lib]);\n",
       "        s.onerror = () => reject(`Error loading script: ${paths[lib]}`);\n",
       "        document.getElementsByTagName(\"head\")[0].appendChild(s);\n",
       "      });\n",
       "    }\n",
       "\n",
       "    function showError(err) {\n",
       "      outputDiv.innerHTML = `<div class=\"error\" style=\"color:red;\">${err}</div>`;\n",
       "      throw err;\n",
       "    }\n",
       "\n",
       "    function displayChart(vegaEmbed) {\n",
       "      vegaEmbed(outputDiv, spec, embedOpt)\n",
       "        .catch(err => showError(`Javascript Error: ${err.message}<br>This usually means there's a typo in your chart specification. See the javascript console for the full traceback.`));\n",
       "    }\n",
       "\n",
       "    if(typeof define === \"function\" && define.amd) {\n",
       "      requirejs.config({paths});\n",
       "      require([\"vega-embed\"], displayChart, err => showError(`Error loading script: ${err.message}`));\n",
       "    } else if (typeof vegaEmbed === \"function\") {\n",
       "      displayChart(vegaEmbed);\n",
       "    } else {\n",
       "      loadScript(\"vega\")\n",
       "        .then(() => loadScript(\"vega-lite\"))\n",
       "        .then(() => loadScript(\"vega-embed\"))\n",
       "        .catch(showError)\n",
       "        .then(() => displayChart(vegaEmbed));\n",
       "    }\n",
       "  })({\"config\": {\"view\": {\"continuousWidth\": 400, \"continuousHeight\": 300}}, \"vconcat\": [{\"mark\": \"bar\", \"encoding\": {\"color\": {\"condition\": {\"value\": \"red\", \"selection\": \"selector023\"}, \"value\": \"lightgray\"}, \"tooltip\": [{\"type\": \"quantitative\", \"field\": \"Index\"}, {\"type\": \"quantitative\", \"field\": \"NDVI Sentinel 2\"}], \"x\": {\"type\": \"quantitative\", \"field\": \"Index\"}, \"y\": {\"type\": \"quantitative\", \"field\": \"NDVI Sentinel 2\", \"scale\": {\"domain\": [-0.5, 0.9]}, \"title\": \"NDVI Value: Sentinel 2 [-1 to +1]\"}}, \"selection\": {\"selector024\": {\"type\": \"interval\", \"bind\": \"scales\", \"encodings\": [\"x\", \"y\"]}, \"selector023\": {\"type\": \"interval\", \"encodings\": [\"x\"]}}, \"title\": \"NDVI Value Time Series\", \"width\": 800}, {\"mark\": \"bar\", \"encoding\": {\"color\": {\"condition\": {\"value\": \"green\", \"selection\": \"selector023\"}, \"value\": \"lightgray\"}, \"tooltip\": [{\"type\": \"quantitative\", \"field\": \"Index\"}, {\"type\": \"quantitative\", \"field\": \"NDVI DL Model\"}], \"x\": {\"type\": \"quantitative\", \"field\": \"Index\"}, \"y\": {\"type\": \"quantitative\", \"field\": \"NDVI DL Model\", \"scale\": {\"domain\": [-0.5, 0.9]}, \"title\": \"NDVI Value: DL Model [-1 to +1]\"}}, \"selection\": {\"selector024\": {\"type\": \"interval\", \"bind\": \"scales\", \"encodings\": [\"x\", \"y\"]}, \"selector023\": {\"type\": \"interval\", \"encodings\": [\"x\"]}}, \"title\": \"NDVI Value Time Series\", \"width\": 800}], \"data\": {\"name\": \"data-b1a13589de9dd45e337cec827311c766\"}, \"$schema\": \"https://vega.github.io/schema/vega-lite/v4.8.1.json\", \"datasets\": {\"data-b1a13589de9dd45e337cec827311c766\": [{\"NDVI Sentinel 2\": 0.012276282, \"NDVI DL Model\": -0.35234255700000006, \"Index\": 0, \"Date 2019-2020\": \"17/01/19\"}, {\"NDVI Sentinel 2\": 0.053369888, \"NDVI DL Model\": -0.148169889, \"Index\": 1, \"Date 2019-2020\": \"27/01/19\"}, {\"NDVI Sentinel 2\": 0.588095136, \"NDVI DL Model\": -0.204164328, \"Index\": 2, \"Date 2019-2020\": \"11/02/19\"}, {\"NDVI Sentinel 2\": -0.09539965199999999, \"NDVI DL Model\": -0.300386496, \"Index\": 3, \"Date 2019-2020\": \"21/02/19\"}, {\"NDVI Sentinel 2\": 0.016630683, \"NDVI DL Model\": -0.19783274899999997, \"Index\": 4, \"Date 2019-2020\": \"03/03/19\"}, {\"NDVI Sentinel 2\": 0.726265023, \"NDVI DL Model\": 0.20084263600000002, \"Index\": 5, \"Date 2019-2020\": \"18/03/19\"}, {\"NDVI Sentinel 2\": 0.40127681600000004, \"NDVI DL Model\": 0.35598744299999996, \"Index\": 6, \"Date 2019-2020\": \"28/03/19\"}, {\"NDVI Sentinel 2\": 0.08702125, \"NDVI DL Model\": 0.11186982599999999, \"Index\": 7, \"Date 2019-2020\": \"12/04/19\"}, {\"NDVI Sentinel 2\": -0.035340019, \"NDVI DL Model\": -0.31645083, \"Index\": 8, \"Date 2019-2020\": \"22/04/19\"}, {\"NDVI Sentinel 2\": -0.104572325, \"NDVI DL Model\": 0.023743304, \"Index\": 9, \"Date 2019-2020\": \"02/05/19\"}, {\"NDVI Sentinel 2\": 0.03708843, \"NDVI DL Model\": -0.305119665, \"Index\": 10, \"Date 2019-2020\": \"17/05/19\"}, {\"NDVI Sentinel 2\": -0.000152351, \"NDVI DL Model\": -0.25148616, \"Index\": 11, \"Date 2019-2020\": \"27/05/19\"}, {\"NDVI Sentinel 2\": 0.0076953709999999995, \"NDVI DL Model\": -0.21529603600000002, \"Index\": 12, \"Date 2019-2020\": \"11/06/19\"}, {\"NDVI Sentinel 2\": -0.032360657, \"NDVI DL Model\": -0.139507256, \"Index\": 13, \"Date 2019-2020\": \"21/06/19\"}, {\"NDVI Sentinel 2\": -0.199775872, \"NDVI DL Model\": -0.167958178, \"Index\": 14, \"Date 2019-2020\": \"01/07/19\"}, {\"NDVI Sentinel 2\": -0.154374268, \"NDVI DL Model\": -0.062767966, \"Index\": 15, \"Date 2019-2020\": \"16/07/19\"}, {\"NDVI Sentinel 2\": -0.175207677, \"NDVI DL Model\": -0.275568835, \"Index\": 16, \"Date 2019-2020\": \"26/07/19\"}, {\"NDVI Sentinel 2\": -0.262493821, \"NDVI DL Model\": -0.085295286, \"Index\": 17, \"Date 2019-2020\": \"10/08/19\"}, {\"NDVI Sentinel 2\": -0.23686954300000002, \"NDVI DL Model\": -0.273332028, \"Index\": 18, \"Date 2019-2020\": \"20/08/19\"}, {\"NDVI Sentinel 2\": -0.20940861300000002, \"NDVI DL Model\": -0.13984328699999998, \"Index\": 19, \"Date 2019-2020\": \"30/08/19\"}, {\"NDVI Sentinel 2\": -0.145953436, \"NDVI DL Model\": -0.047594181, \"Index\": 20, \"Date 2019-2020\": \"14/09/19\"}, {\"NDVI Sentinel 2\": -0.147639899, \"NDVI DL Model\": -0.334204944, \"Index\": 21, \"Date 2019-2020\": \"24/09/19\"}, {\"NDVI Sentinel 2\": -0.10601660199999999, \"NDVI DL Model\": -0.118406482, \"Index\": 22, \"Date 2019-2020\": \"09/10/19\"}, {\"NDVI Sentinel 2\": 0.016929606, \"NDVI DL Model\": -0.10314928300000001, \"Index\": 23, \"Date 2019-2020\": \"19/10/19\"}, {\"NDVI Sentinel 2\": -0.07003277, \"NDVI DL Model\": -0.229260673, \"Index\": 24, \"Date 2019-2020\": \"29/10/19\"}, {\"NDVI Sentinel 2\": 0.043746775, \"NDVI DL Model\": -0.134723564, \"Index\": 25, \"Date 2019-2020\": \"13/11/19\"}, {\"NDVI Sentinel 2\": 0.067157962, \"NDVI DL Model\": -0.17682627, \"Index\": 26, \"Date 2019-2020\": \"23/11/19\"}, {\"NDVI Sentinel 2\": 0.467904139, \"NDVI DL Model\": -0.14977421300000002, \"Index\": 27, \"Date 2019-2020\": \"08/12/19\"}, {\"NDVI Sentinel 2\": 0.04027864, \"NDVI DL Model\": -0.238918198, \"Index\": 28, \"Date 2019-2020\": \"18/12/19\"}, {\"NDVI Sentinel 2\": 0.638281091, \"NDVI DL Model\": -0.251311771, \"Index\": 29, \"Date 2019-2020\": \"28/12/19\"}, {\"NDVI Sentinel 2\": 0.264232622, \"NDVI DL Model\": -0.294848169, \"Index\": 30, \"Date 2019-2020\": \"17/01/20\"}, {\"NDVI Sentinel 2\": 0.70615597, \"NDVI DL Model\": -0.17883353600000002, \"Index\": 31, \"Date 2019-2020\": \"27/01/20\"}, {\"NDVI Sentinel 2\": 0.6619970270000001, \"NDVI DL Model\": -0.149894244, \"Index\": 32, \"Date 2019-2020\": \"11/02/20\"}, {\"NDVI Sentinel 2\": 0.303116083, \"NDVI DL Model\": -0.129296573, \"Index\": 33, \"Date 2019-2020\": \"21/02/20\"}, {\"NDVI Sentinel 2\": 0.22470465399999998, \"NDVI DL Model\": -0.118717945, \"Index\": 34, \"Date 2019-2020\": \"02/03/20\"}, {\"NDVI Sentinel 2\": 0.234772841, \"NDVI DL Model\": -0.107239689, \"Index\": 35, \"Date 2019-2020\": \"17/03/20\"}, {\"NDVI Sentinel 2\": 0.45806874799999997, \"NDVI DL Model\": -0.234306474, \"Index\": 36, \"Date 2019-2020\": \"27/03/20\"}, {\"NDVI Sentinel 2\": 0.42337181100000004, \"NDVI DL Model\": -0.27114129800000003, \"Index\": 37, \"Date 2019-2020\": \"11/04/20\"}, {\"NDVI Sentinel 2\": 0.220368543, \"NDVI DL Model\": -0.415463329, \"Index\": 38, \"Date 2019-2020\": \"21/04/20\"}, {\"NDVI Sentinel 2\": 0.017795367, \"NDVI DL Model\": -0.287851959, \"Index\": 39, \"Date 2019-2020\": \"01/05/20\"}, {\"NDVI Sentinel 2\": -0.080052767, \"NDVI DL Model\": -0.335892855, \"Index\": 40, \"Date 2019-2020\": \"16/05/20\"}, {\"NDVI Sentinel 2\": 0.023436261, \"NDVI DL Model\": -0.175876924, \"Index\": 41, \"Date 2019-2020\": \"26/05/20\"}, {\"NDVI Sentinel 2\": 0.005161703, \"NDVI DL Model\": -0.296765262, \"Index\": 42, \"Date 2019-2020\": \"10/06/20\"}, {\"NDVI Sentinel 2\": -5.05e-05, \"NDVI DL Model\": -0.165358521, \"Index\": 43, \"Date 2019-2020\": \"20/06/20\"}, {\"NDVI Sentinel 2\": -0.048449855, \"NDVI DL Model\": -0.24695949899999997, \"Index\": 44, \"Date 2019-2020\": \"30/06/20\"}, {\"NDVI Sentinel 2\": -0.07098513299999999, \"NDVI DL Model\": -0.240522605, \"Index\": 45, \"Date 2019-2020\": \"15/07/20\"}, {\"NDVI Sentinel 2\": -0.160615643, \"NDVI DL Model\": -0.097412829, \"Index\": 46, \"Date 2019-2020\": \"25/07/20\"}, {\"NDVI Sentinel 2\": -0.21894254600000002, \"NDVI DL Model\": -0.268958651, \"Index\": 47, \"Date 2019-2020\": \"09/08/20\"}, {\"NDVI Sentinel 2\": 0.064602778, \"NDVI DL Model\": -0.21621120000000002, \"Index\": 48, \"Date 2019-2020\": \"19/08/20\"}, {\"NDVI Sentinel 2\": -0.396863979, \"NDVI DL Model\": -0.274843974, \"Index\": 49, \"Date 2019-2020\": \"29/08/20\"}, {\"NDVI Sentinel 2\": -0.44409350700000005, \"NDVI DL Model\": -0.324606009, \"Index\": 50, \"Date 2019-2020\": \"13/09/20\"}, {\"NDVI Sentinel 2\": -0.164241415, \"NDVI DL Model\": -0.154213283, \"Index\": 51, \"Date 2019-2020\": \"23/09/20\"}, {\"NDVI Sentinel 2\": 0.116640157, \"NDVI DL Model\": -0.278497208, \"Index\": 52, \"Date 2019-2020\": \"08/10/20\"}, {\"NDVI Sentinel 2\": -0.113794406, \"NDVI DL Model\": -0.14968384099999998, \"Index\": 53, \"Date 2019-2020\": \"18/10/20\"}, {\"NDVI Sentinel 2\": -0.057727851, \"NDVI DL Model\": -0.139496035, \"Index\": 54, \"Date 2019-2020\": \"28/10/20\"}, {\"NDVI Sentinel 2\": 0.016087081, \"NDVI DL Model\": -0.260348583, \"Index\": 55, \"Date 2019-2020\": \"12/11/20\"}, {\"NDVI Sentinel 2\": 0.09606149, \"NDVI DL Model\": -0.097475374, \"Index\": 56, \"Date 2019-2020\": \"22/11/20\"}, {\"NDVI Sentinel 2\": 0.074294968, \"NDVI DL Model\": -0.107034245, \"Index\": 57, \"Date 2019-2020\": \"07/12/20\"}, {\"NDVI Sentinel 2\": 0.02004957, \"NDVI DL Model\": -0.08484756, \"Index\": 58, \"Date 2019-2020\": \"17/12/20\"}, {\"NDVI Sentinel 2\": 0.052885920999999995, \"NDVI DL Model\": 0.10499679599999999, \"Index\": 59, \"Date 2019-2020\": \"27/12/20\"}]}}, {\"mode\": \"vega-lite\"});\n",
       "</script>"
      ],
      "text/plain": [
       "alt.VConcatChart(...)"
      ]
     },
     "execution_count": 47,
     "metadata": {},
     "output_type": "execute_result"
    }
   ],
   "source": [
    "brush = alt.selection_interval(encodings= [\"x\"])\n",
    "\n",
    "\n",
    "# plotting the dataframe using altair\n",
    "\n",
    "\n",
    "hist1 = alt.Chart(data).mark_bar().encode(x = \"Index\",\n",
    "    color=alt.condition(brush, alt.value(\"cadetblue\"), alt.value('lightgray'))\n",
    ").interactive().properties( width=800,title = 'NDVI Value Time Series').add_selection(brush)\n",
    "\n",
    "hist1.configure_title(\n",
    "    fontSize=20,\n",
    "    font='Courier',\n",
    "    anchor='start',\n",
    "    color='gray'\n",
    ")\n",
    "\n",
    "\n",
    "# concatenating all plots and making them interactive\n",
    "\n",
    "hist1.encode(alt.Y(\"NDVI Sentinel 2\",scale=alt.Scale(domain=[-0.5, 0.9]),title = 'NDVI Value: Sentinel 2 [-1 to +1]'),color=alt.condition(brush, alt.value(\"red\"), alt.value('lightgray')), tooltip=[\"Index\", \"NDVI Sentinel 2\"]\n",
    ") & hist1.encode(alt.Y(\"NDVI DL Model\",scale=alt.Scale(domain=[-0.5, 0.9]),title = 'NDVI Value: DL Model [-1 to +1]'),color=alt.condition(brush, alt.value(\"green\"), alt.value('lightgray')), tooltip=[\"Index\", \"NDVI DL Model\"]\n",
    ")"
   ]
  },
  {
   "cell_type": "code",
   "execution_count": null,
   "metadata": {},
   "outputs": [],
   "source": []
  }
 ],
 "metadata": {
  "kernelspec": {
   "display_name": "Python 3",
   "language": "python",
   "name": "python3"
  },
  "language_info": {
   "codemirror_mode": {
    "name": "ipython",
    "version": 3
   },
   "file_extension": ".py",
   "mimetype": "text/x-python",
   "name": "python",
   "nbconvert_exporter": "python",
   "pygments_lexer": "ipython3",
   "version": "3.7.6"
  }
 },
 "nbformat": 4,
 "nbformat_minor": 4
}
